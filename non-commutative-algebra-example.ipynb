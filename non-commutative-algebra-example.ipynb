{
 "cells": [
  {
   "cell_type": "code",
   "execution_count": 1,
   "id": "7aae93fa",
   "metadata": {},
   "outputs": [],
   "source": [
    "import sympy as sp"
   ]
  },
  {
   "cell_type": "code",
   "execution_count": 2,
   "id": "0d63fdcb",
   "metadata": {},
   "outputs": [
    {
     "data": {
      "text/plain": [
       "'1.12'"
      ]
     },
     "execution_count": 2,
     "metadata": {},
     "output_type": "execute_result"
    }
   ],
   "source": [
    "sp.__version__"
   ]
  },
  {
   "cell_type": "code",
   "execution_count": 3,
   "id": "7c173c8a",
   "metadata": {},
   "outputs": [],
   "source": [
    "P,Q,R,S,Po,Qo,Ro,So,M = sp.symbols(\"P,Q,R,S,Po,Qo,Ro,So,M\", commutative=False)"
   ]
  },
  {
   "cell_type": "code",
   "execution_count": 4,
   "id": "8954fa22",
   "metadata": {},
   "outputs": [],
   "source": [
    "M = (S - R*(P**(-1))*Q)**(-1)"
   ]
  },
  {
   "cell_type": "code",
   "execution_count": 5,
   "id": "1f7ed4e3",
   "metadata": {},
   "outputs": [],
   "source": [
    "Po = P**(-1) + (P**(-1))*Q*M*R*(P**(-1))"
   ]
  },
  {
   "cell_type": "code",
   "execution_count": 14,
   "id": "452bc989",
   "metadata": {},
   "outputs": [],
   "source": [
    "Qo = - (P**(-1))*Q*M"
   ]
  },
  {
   "cell_type": "code",
   "execution_count": 15,
   "id": "40f4d2d4",
   "metadata": {},
   "outputs": [],
   "source": [
    "Ro = - M*R*(P**(-1))"
   ]
  },
  {
   "cell_type": "code",
   "execution_count": 9,
   "id": "2c007837",
   "metadata": {},
   "outputs": [],
   "source": [
    "So = M"
   ]
  },
  {
   "cell_type": "code",
   "execution_count": 11,
   "id": "22d19a78",
   "metadata": {},
   "outputs": [],
   "source": [
    "A = sp.matrices.Matrix([[P, Q],[R, S]])"
   ]
  },
  {
   "cell_type": "code",
   "execution_count": 12,
   "id": "30bd9d54",
   "metadata": {},
   "outputs": [],
   "source": [
    "Ao = sp.matrices.Matrix([[Po, Qo],[Ro, So]])"
   ]
  },
  {
   "cell_type": "code",
   "execution_count": 29,
   "id": "bd3733cb",
   "metadata": {},
   "outputs": [
    {
     "data": {
      "text/plain": [
       "False"
      ]
     },
     "execution_count": 29,
     "metadata": {},
     "output_type": "execute_result"
    }
   ],
   "source": [
    "A*Ao == sp.matrices.Matrix([[1,0],[0,1]])"
   ]
  },
  {
   "cell_type": "code",
   "execution_count": 30,
   "id": "594e9aff",
   "metadata": {},
   "outputs": [
    {
     "data": {
      "text/latex": [
       "$\\displaystyle \\left[\\begin{matrix}P \\left(P^{-1} + P^{-1} Q \\left(- R P^{-1} Q + S\\right)^{-1} R P^{-1}\\right) - Q \\left(- R P^{-1} Q + S\\right)^{-1} R P^{-1} & 0\\\\R \\left(P^{-1} + P^{-1} Q \\left(- R P^{-1} Q + S\\right)^{-1} R P^{-1}\\right) - S \\left(- R P^{-1} Q + S\\right)^{-1} R P^{-1} & - R P^{-1} Q \\left(- R P^{-1} Q + S\\right)^{-1} + S \\left(- R P^{-1} Q + S\\right)^{-1}\\end{matrix}\\right]$"
      ],
      "text/plain": [
       "Matrix([\n",
       "[P*(P**(-1) + P**(-1)*Q*(-R*P**(-1)*Q + S)**(-1)*R*P**(-1)) - Q*(-R*P**(-1)*Q + S)**(-1)*R*P**(-1),                                                                  0],\n",
       "[R*(P**(-1) + P**(-1)*Q*(-R*P**(-1)*Q + S)**(-1)*R*P**(-1)) - S*(-R*P**(-1)*Q + S)**(-1)*R*P**(-1), -R*P**(-1)*Q*(-R*P**(-1)*Q + S)**(-1) + S*(-R*P**(-1)*Q + S)**(-1)]])"
      ]
     },
     "execution_count": 30,
     "metadata": {},
     "output_type": "execute_result"
    }
   ],
   "source": [
    "sp.sympify(A*Ao)"
   ]
  },
  {
   "cell_type": "code",
   "execution_count": null,
   "id": "3d367bd8",
   "metadata": {},
   "outputs": [],
   "source": []
  }
 ],
 "metadata": {
  "kernelspec": {
   "display_name": "SageMath 10.0",
   "language": "sage",
   "name": "sagemath"
  },
  "language_info": {
   "codemirror_mode": {
    "name": "ipython",
    "version": 3
   },
   "file_extension": ".py",
   "mimetype": "text/x-python",
   "name": "python",
   "nbconvert_exporter": "python",
   "pygments_lexer": "ipython3",
   "version": "3.11.6"
  }
 },
 "nbformat": 4,
 "nbformat_minor": 5
}
