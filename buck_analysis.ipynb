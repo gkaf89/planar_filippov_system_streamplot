{
 "cells": [
  {
   "cell_type": "code",
   "execution_count": 1,
   "id": "08f4a24b",
   "metadata": {},
   "outputs": [],
   "source": [
    "from sympy import *"
   ]
  },
  {
   "cell_type": "code",
   "execution_count": 2,
   "id": "eb6599fd",
   "metadata": {},
   "outputs": [],
   "source": [
    "u = SR.var('u')"
   ]
  },
  {
   "cell_type": "code",
   "execution_count": 3,
   "id": "930eea81",
   "metadata": {},
   "outputs": [],
   "source": [
    "i_L, v_C = SR.var('i_L, v_C')"
   ]
  },
  {
   "cell_type": "code",
   "execution_count": 4,
   "id": "e2543489",
   "metadata": {},
   "outputs": [],
   "source": [
    "D_i_L, D_v_C = SR.var('D_i_L, D_v_C')"
   ]
  },
  {
   "cell_type": "code",
   "execution_count": 5,
   "id": "79b736c8",
   "metadata": {},
   "outputs": [],
   "source": [
    "L, C, R, E = SR.var('L, C, R, E')"
   ]
  },
  {
   "cell_type": "code",
   "execution_count": 6,
   "id": "d8ca61c4",
   "metadata": {},
   "outputs": [],
   "source": [
    "D_i_L = (1/L)*(-v_C + u*E); D_v_C = (1/C)*(i_L - v_C/R);"
   ]
  },
  {
   "cell_type": "code",
   "execution_count": 7,
   "id": "23b6a414",
   "metadata": {},
   "outputs": [],
   "source": [
    "alpha, v_C_s = SR.var('alpha, v_C_s')"
   ]
  },
  {
   "cell_type": "code",
   "execution_count": 8,
   "id": "ca9155ea",
   "metadata": {},
   "outputs": [],
   "source": [
    "S = SR.var('S')"
   ]
  },
  {
   "cell_type": "code",
   "execution_count": 9,
   "id": "36a19ef9",
   "metadata": {},
   "outputs": [],
   "source": [
    "S = alpha*D_v_C + v_C - v_C_s"
   ]
  },
  {
   "cell_type": "code",
   "execution_count": 10,
   "id": "9fe24306",
   "metadata": {},
   "outputs": [
    {
     "data": {
      "text/plain": [
       "alpha*(i_L - v_C/R)/C + v_C - v_C_s"
      ]
     },
     "execution_count": 10,
     "metadata": {},
     "output_type": "execute_result"
    }
   ],
   "source": [
    "S"
   ]
  },
  {
   "cell_type": "code",
   "execution_count": 11,
   "id": "34868a56",
   "metadata": {},
   "outputs": [],
   "source": [
    "D_S = S.diff(i_L)*D_i_L + S.diff(v_C)*D_v_C"
   ]
  },
  {
   "cell_type": "code",
   "execution_count": 12,
   "id": "89fbe75d",
   "metadata": {},
   "outputs": [
    {
     "data": {
      "text/plain": [
       "-(i_L - v_C/R)*(alpha/(C*R) - 1)/C + (E*u - v_C)*alpha/(C*L)"
      ]
     },
     "execution_count": 12,
     "metadata": {},
     "output_type": "execute_result"
    }
   ],
   "source": [
    "D_S"
   ]
  },
  {
   "cell_type": "code",
   "execution_count": 13,
   "id": "f9796a67",
   "metadata": {},
   "outputs": [],
   "source": [
    "sol_sliding_S = solve([S==0], [v_C], solution_dict=True)"
   ]
  },
  {
   "cell_type": "code",
   "execution_count": 14,
   "id": "034ffe30",
   "metadata": {},
   "outputs": [
    {
     "data": {
      "text/plain": [
       "{v_C: (C*R*v_C_s - R*alpha*i_L)/(C*R - alpha)}"
      ]
     },
     "execution_count": 14,
     "metadata": {},
     "output_type": "execute_result"
    }
   ],
   "source": [
    "sol_sliding_S"
   ]
  },
  {
   "cell_type": "code",
   "execution_count": 15,
   "id": "5a84ae1d",
   "metadata": {},
   "outputs": [],
   "source": [
    "D_S_sliding = D_S.substitute(sol_sliding_S)"
   ]
  },
  {
   "cell_type": "code",
   "execution_count": 16,
   "id": "9cde77a4",
   "metadata": {},
   "outputs": [
    {
     "data": {
      "text/plain": [
       "-(i_L + (R*alpha*i_L - C*R*v_C_s)/((C*R - alpha)*R))*(alpha/(C*R) - 1)/C + (E*u + (R*alpha*i_L - C*R*v_C_s)/(C*R - alpha))*alpha/(C*L)"
      ]
     },
     "execution_count": 16,
     "metadata": {},
     "output_type": "execute_result"
    }
   ],
   "source": [
    "D_S_sliding"
   ]
  },
  {
   "cell_type": "code",
   "execution_count": 17,
   "id": "03c8cb9d",
   "metadata": {},
   "outputs": [],
   "source": [
    "sol_sliding_D_S = solve([D_S==0], [u], solution_dict=True)"
   ]
  },
  {
   "cell_type": "code",
   "execution_count": 18,
   "id": "5d878b4e",
   "metadata": {},
   "outputs": [
    {
     "data": {
      "text/plain": [
       "{u: (-C*L*R**2*i_L + C*L*R*v_C + C*R**2*alpha*v_C + L*R*alpha*i_L - L*alpha*v_C)/(C*E*R**2*alpha)}"
      ]
     },
     "execution_count": 18,
     "metadata": {},
     "output_type": "execute_result"
    }
   ],
   "source": [
    "sol_sliding_D_S"
   ]
  },
  {
   "cell_type": "code",
   "execution_count": 19,
   "id": "eacd51e3",
   "metadata": {},
   "outputs": [],
   "source": [
    "u_sliding = u.substitute(sol_sliding_D_S).substitute(sol_sliding_S)"
   ]
  },
  {
   "cell_type": "code",
   "execution_count": 20,
   "id": "dbae4415",
   "metadata": {},
   "outputs": [
    {
     "data": {
      "text/plain": [
       "-(C*L*R^2*i_L + (R*alpha*i_L - C*R*v_C_s)*C*R^2*alpha/(C*R - alpha) - L*R*alpha*i_L + (R*alpha*i_L - C*R*v_C_s)*C*L*R/(C*R - alpha) - (R*alpha*i_L - C*R*v_C_s)*L*alpha/(C*R - alpha))/(C*E*R^2*alpha)"
      ]
     },
     "execution_count": 20,
     "metadata": {},
     "output_type": "execute_result"
    }
   ],
   "source": [
    "u_sliding"
   ]
  },
  {
   "cell_type": "code",
   "execution_count": 21,
   "id": "60923d30",
   "metadata": {},
   "outputs": [],
   "source": [
    "u_sliding_i_L = u_sliding.substitute(sol_sliding_S)"
   ]
  },
  {
   "cell_type": "code",
   "execution_count": 22,
   "id": "cde0c4e7",
   "metadata": {},
   "outputs": [
    {
     "data": {
      "text/plain": [
       "-(C*L*R^2*i_L + (R*alpha*i_L - C*R*v_C_s)*C*R^2*alpha/(C*R - alpha) - L*R*alpha*i_L + (R*alpha*i_L - C*R*v_C_s)*C*L*R/(C*R - alpha) - (R*alpha*i_L - C*R*v_C_s)*L*alpha/(C*R - alpha))/(C*E*R^2*alpha)"
      ]
     },
     "execution_count": 22,
     "metadata": {},
     "output_type": "execute_result"
    }
   ],
   "source": [
    "u_sliding_i_L"
   ]
  },
  {
   "cell_type": "code",
   "execution_count": 23,
   "id": "0b0b1511",
   "metadata": {},
   "outputs": [
    {
     "data": {
      "text/plain": [
       "{i_L: (C*L*R*v_C_s + C*R**2*alpha*v_C_s - L*alpha*v_C_s)/(C*L*R**2 - L*R*alpha + R**2*alpha**2)}"
      ]
     },
     "execution_count": 23,
     "metadata": {},
     "output_type": "execute_result"
    }
   ],
   "source": [
    "solve( [u_sliding_i_L == 0], [i_L])"
   ]
  },
  {
   "cell_type": "code",
   "execution_count": 24,
   "id": "ea2748ff",
   "metadata": {},
   "outputs": [
    {
     "data": {
      "text/plain": [
       "{i_L: (-C*E*R**2*alpha + C*L*R*v_C_s + C*R**2*alpha*v_C_s + E*R*alpha**2 - L*alpha*v_C_s)/(C*L*R**2 - L*R*alpha + R**2*alpha**2)}"
      ]
     },
     "execution_count": 24,
     "metadata": {},
     "output_type": "execute_result"
    }
   ],
   "source": [
    "solve( [u_sliding_i_L == 1], [i_L])"
   ]
  }
 ],
 "metadata": {
  "kernelspec": {
   "display_name": "SageMath 10.0",
   "language": "sage",
   "name": "sagemath"
  },
  "language_info": {
   "codemirror_mode": {
    "name": "ipython",
    "version": 3
   },
   "file_extension": ".py",
   "mimetype": "text/x-python",
   "name": "python",
   "nbconvert_exporter": "python",
   "pygments_lexer": "ipython3",
   "version": "3.11.5"
  }
 },
 "nbformat": 4,
 "nbformat_minor": 5
}
