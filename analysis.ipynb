{
 "cells": [
  {
   "cell_type": "code",
   "execution_count": 1,
   "id": "green-confidence",
   "metadata": {},
   "outputs": [],
   "source": [
    "from sympy import *"
   ]
  },
  {
   "cell_type": "code",
   "execution_count": 2,
   "id": "accurate-effects",
   "metadata": {},
   "outputs": [],
   "source": [
    "u_1, u_2, u_3, u_4 = var('u_1, u_2, u_3, u_4')"
   ]
  },
  {
   "cell_type": "code",
   "execution_count": 3,
   "id": "worth-strain",
   "metadata": {},
   "outputs": [],
   "source": [
    "i_L, v_C = var('i_L, v_C')"
   ]
  },
  {
   "cell_type": "code",
   "execution_count": 4,
   "id": "closed-october",
   "metadata": {},
   "outputs": [],
   "source": [
    "D_i_L, D_v_C = var('D_i_L, D_v_C')"
   ]
  },
  {
   "cell_type": "code",
   "execution_count": 5,
   "id": "following-tattoo",
   "metadata": {},
   "outputs": [],
   "source": [
    "n, L, C, R, v_in = var('n, L, C, R, v_in')"
   ]
  },
  {
   "cell_type": "code",
   "execution_count": 6,
   "id": "intelligent-panel",
   "metadata": {},
   "outputs": [],
   "source": [
    "D_i_L = (1/L)*((u_1*(1-u_2) - (1-u_1)*u_2)*v_in - n*(u_3*(1-u_4) - (1-u_3)*u_4)*v_C)"
   ]
  },
  {
   "cell_type": "code",
   "execution_count": 7,
   "id": "reliable-stack",
   "metadata": {},
   "outputs": [],
   "source": [
    "D_v_C = (1/C)*( (1/n)*(u_4*(1-u_3) - (1-u_4)*u_3)*i_L - v_C/R )"
   ]
  },
  {
   "cell_type": "code",
   "execution_count": 8,
   "id": "furnished-bradford",
   "metadata": {},
   "outputs": [
    {
     "data": {
      "text/latex": [
       "$\\displaystyle \\frac{- n v_{C} \\left(u_{3} \\left(1 - u_{4}\\right) - u_{4} \\left(1 - u_{3}\\right)\\right) + v_{in} \\left(u_{1} \\left(1 - u_{2}\\right) - u_{2} \\left(1 - u_{1}\\right)\\right)}{L}$"
      ],
      "text/plain": [
       "(-n*v_C*(u_3*(1 - u_4) - u_4*(1 - u_3)) + v_in*(u_1*(1 - u_2) - u_2*(1 - u_1)))/L"
      ]
     },
     "execution_count": 8,
     "metadata": {},
     "output_type": "execute_result"
    }
   ],
   "source": [
    "D_i_L"
   ]
  },
  {
   "cell_type": "code",
   "execution_count": 9,
   "id": "stock-therapist",
   "metadata": {},
   "outputs": [
    {
     "data": {
      "text/latex": [
       "$\\displaystyle \\frac{\\frac{i_{L} \\left(- u_{3} \\left(1 - u_{4}\\right) + u_{4} \\left(1 - u_{3}\\right)\\right)}{n} - \\frac{v_{C}}{R}}{C}$"
      ],
      "text/plain": [
       "(i_L*(-u_3*(1 - u_4) + u_4*(1 - u_3))/n - v_C/R)/C"
      ]
     },
     "execution_count": 9,
     "metadata": {},
     "output_type": "execute_result"
    }
   ],
   "source": [
    "D_v_C"
   ]
  },
  {
   "cell_type": "code",
   "execution_count": 10,
   "id": "tender-fraction",
   "metadata": {},
   "outputs": [],
   "source": [
    "dx_1 = collect(collect(collect(simplify(D_i_L), v_C), n), v_in)"
   ]
  },
  {
   "cell_type": "code",
   "execution_count": 11,
   "id": "academic-probe",
   "metadata": {},
   "outputs": [
    {
     "data": {
      "text/latex": [
       "$\\displaystyle \\frac{n v_{C} \\left(- u_{3} + u_{4}\\right) + v_{in} \\left(u_{1} - u_{2}\\right)}{L}$"
      ],
      "text/plain": [
       "(n*v_C*(-u_3 + u_4) + v_in*(u_1 - u_2))/L"
      ]
     },
     "execution_count": 11,
     "metadata": {},
     "output_type": "execute_result"
    }
   ],
   "source": [
    "dx_1"
   ]
  },
  {
   "cell_type": "code",
   "execution_count": 12,
   "id": "demonstrated-memorabilia",
   "metadata": {},
   "outputs": [],
   "source": [
    "dx_2 = collect(collect(collect(simplify(D_v_C), i_L), R), v_C)"
   ]
  },
  {
   "cell_type": "code",
   "execution_count": 13,
   "id": "convertible-liver",
   "metadata": {},
   "outputs": [
    {
     "data": {
      "text/latex": [
       "$\\displaystyle \\frac{R i_{L} \\left(- u_{3} + u_{4}\\right) - n v_{C}}{C R n}$"
      ],
      "text/plain": [
       "(R*i_L*(-u_3 + u_4) - n*v_C)/(C*R*n)"
      ]
     },
     "execution_count": 13,
     "metadata": {},
     "output_type": "execute_result"
    }
   ],
   "source": [
    "dx_2"
   ]
  },
  {
   "cell_type": "code",
   "execution_count": 14,
   "id": "southern-upset",
   "metadata": {},
   "outputs": [
    {
     "data": {
      "text/latex": [
       "$\\displaystyle - \\frac{i_{L} \\left(u_{3} - u_{4}\\right)}{C n} - \\frac{v_{C}}{C R}$"
      ],
      "text/plain": [
       "-i_L*(u_3 - u_4)/(C*n) - v_C/(C*R)"
      ]
     },
     "execution_count": 14,
     "metadata": {},
     "output_type": "execute_result"
    }
   ],
   "source": [
    "collect(apart(dx_2, R), i_L)"
   ]
  },
  {
   "cell_type": "code",
   "execution_count": 15,
   "id": "classified-plymouth",
   "metadata": {},
   "outputs": [],
   "source": [
    "S = var('S')"
   ]
  },
  {
   "cell_type": "code",
   "execution_count": 16,
   "id": "derived-cheat",
   "metadata": {},
   "outputs": [],
   "source": [
    "E, alpha = var('E, alpha')"
   ]
  },
  {
   "cell_type": "code",
   "execution_count": 17,
   "id": "mexican-moment",
   "metadata": {},
   "outputs": [],
   "source": [
    "S = v_C - E"
   ]
  },
  {
   "cell_type": "code",
   "execution_count": 18,
   "id": "eight-spanish",
   "metadata": {},
   "outputs": [],
   "source": [
    "H = D_v_C - alpha*S"
   ]
  },
  {
   "cell_type": "code",
   "execution_count": 19,
   "id": "lasting-strain",
   "metadata": {},
   "outputs": [
    {
     "data": {
      "text/latex": [
       "$\\displaystyle - \\alpha \\left(- E + v_{C}\\right) + \\frac{\\frac{i_{L} \\left(- u_{3} \\left(1 - u_{4}\\right) + u_{4} \\left(1 - u_{3}\\right)\\right)}{n} - \\frac{v_{C}}{R}}{C}$"
      ],
      "text/plain": [
       "-alpha*(-E + v_C) + (i_L*(-u_3*(1 - u_4) + u_4*(1 - u_3))/n - v_C/R)/C"
      ]
     },
     "execution_count": 19,
     "metadata": {},
     "output_type": "execute_result"
    }
   ],
   "source": [
    "H"
   ]
  },
  {
   "cell_type": "code",
   "execution_count": 20,
   "id": "boolean-explosion",
   "metadata": {},
   "outputs": [
    {
     "data": {
      "text/latex": [
       "$\\displaystyle E \\alpha + i_{L} \\left(- \\frac{u_{3}}{C n} + \\frac{u_{4}}{C n}\\right) + v_{C} \\left(- \\alpha - \\frac{1}{C R}\\right)$"
      ],
      "text/plain": [
       "E*alpha + i_L*(-u_3/(C*n) + u_4/(C*n)) + v_C*(-alpha - 1/(C*R))"
      ]
     },
     "execution_count": 20,
     "metadata": {},
     "output_type": "execute_result"
    }
   ],
   "source": [
    "collect(collect(simplify(H), i_L), v_C)"
   ]
  },
  {
   "cell_type": "code",
   "execution_count": 21,
   "id": "anonymous-lesbian",
   "metadata": {},
   "outputs": [
    {
     "data": {
      "text/latex": [
       "$\\displaystyle \\int \\log{\\left(n \\right)}^{2}\\, dn$"
      ],
      "text/plain": [
       "Integral(log(n)**2, n)"
      ]
     },
     "execution_count": 21,
     "metadata": {},
     "output_type": "execute_result"
    }
   ],
   "source": [
    "Integral(log(n)**2, n)"
   ]
  },
  {
   "cell_type": "code",
   "execution_count": 22,
   "id": "breathing-blend",
   "metadata": {},
   "outputs": [
    {
     "name": "stdout",
     "output_type": "stream",
     "text": [
      "n⋅v_C⋅(-u₃ + u₄) + vᵢₙ⋅(u₁ - u₂)\n",
      "────────────────────────────────\n",
      "               L                \n"
     ]
    }
   ],
   "source": [
    " pretty_print(collect(collect(collect(simplify(D_i_L), v_C), n), v_in))"
   ]
  },
  {
   "cell_type": "code",
   "execution_count": 23,
   "id": "helpful-needle",
   "metadata": {
    "scrolled": true
   },
   "outputs": [
    {
     "data": {
      "text/latex": [
       "$\\displaystyle \\left[\\begin{matrix}1 & 2\\\\1 & 2 x\\end{matrix}\\right]$"
      ],
      "text/plain": [
       "Matrix([\n",
       "[1,   2],\n",
       "[1, 2*x]])"
      ]
     },
     "execution_count": 23,
     "metadata": {},
     "output_type": "execute_result"
    }
   ],
   "source": [
    "diff(Matrix([[x, 2*x], [x, x**2]]), x)"
   ]
  },
  {
   "cell_type": "code",
   "execution_count": 24,
   "id": "anonymous-retrieval",
   "metadata": {},
   "outputs": [
    {
     "data": {
      "text/plain": [
       "'(-n*v_C*(u_3*(1 - u_4) - u_4*(1 - u_3)) + v_in*(u_1*(1 - u_2) - u_2*(1 - u_1)))/L'"
      ]
     },
     "execution_count": 24,
     "metadata": {},
     "output_type": "execute_result"
    }
   ],
   "source": [
    "str(D_i_L)"
   ]
  },
  {
   "cell_type": "code",
   "execution_count": 25,
   "id": "executed-webcam",
   "metadata": {},
   "outputs": [
    {
     "data": {
      "text/plain": [
       "'(i_L*(-u_3*(1 - u_4) + u_4*(1 - u_3))/n - v_C/R)/C'"
      ]
     },
     "execution_count": 25,
     "metadata": {},
     "output_type": "execute_result"
    }
   ],
   "source": [
    "str(D_v_C)"
   ]
  },
  {
   "cell_type": "markdown",
   "id": "afraid-method",
   "metadata": {},
   "source": []
  }
 ],
 "metadata": {
  "kernelspec": {
   "display_name": "SageMath 10.0",
   "language": "sage",
   "name": "sagemath"
  },
  "language_info": {
   "codemirror_mode": {
    "name": "ipython",
    "version": 3
   },
   "file_extension": ".py",
   "mimetype": "text/x-python",
   "name": "python",
   "nbconvert_exporter": "python",
   "pygments_lexer": "ipython3",
   "version": "3.11.5"
  }
 },
 "nbformat": 4,
 "nbformat_minor": 5
}
